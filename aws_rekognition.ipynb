{
 "cells": [
  {
   "metadata": {},
   "cell_type": "markdown",
   "source": "# Recognize images with AWS Rekognition",
   "id": "ec204cea16cd4ebe"
  },
  {
   "metadata": {
    "ExecuteTime": {
     "end_time": "2025-03-23T10:21:21.726452Z",
     "start_time": "2025-03-23T10:21:21.718450Z"
    }
   },
   "cell_type": "code",
   "source": [
    "import os\n",
    "import logging\n",
    "import boto3\n",
    "from rekognition import RekognitionImage\n",
    "from dotenv import load_dotenv, find_dotenv\n",
    "\n",
    "logger = logging.getLogger(__name__)\n",
    "\n",
    "load_dotenv(find_dotenv())\n",
    "aws_access_key_id = os.environ.get(\"aws_access_key_id\")\n",
    "aws_secret_access_key = os.environ.get(\"aws_secret_access_key\")"
   ],
   "id": "3ace840a3960af1c",
   "outputs": [],
   "execution_count": 4
  },
  {
   "cell_type": "code",
   "id": "initial_id",
   "metadata": {
    "collapsed": true,
    "ExecuteTime": {
     "end_time": "2025-03-23T10:22:41.108502Z",
     "start_time": "2025-03-23T10:22:41.104933Z"
    }
   },
   "source": [
    "def recognize_img(path: str, labelsNum=5):\n",
    "    logging.basicConfig(level=logging.INFO, format='%(levelname)s: %(message)s')\n",
    "    rekognition_client = boto3.client(\n",
    "        'rekognition',\n",
    "        aws_access_key_id=aws_access_key_id,\n",
    "        aws_secret_access_key=aws_secret_access_key,\n",
    "        region_name=\"eu-central-1\"\n",
    "    )\n",
    "    img = RekognitionImage.from_file(path, rekognition_client)\n",
    "    labels = img.detect_labels(labelsNum)\n",
    "    labelsDict = {}\n",
    "    for label in labels:\n",
    "        if label.instances:\n",
    "            labelsDict[label.name] = label.to_dict()\n",
    "    return labelsDict"
   ],
   "outputs": [],
   "execution_count": 7
  },
  {
   "metadata": {
    "ExecuteTime": {
     "end_time": "2025-03-23T10:22:43.017428Z",
     "start_time": "2025-03-23T10:22:42.499234Z"
    }
   },
   "cell_type": "code",
   "source": "recognize_img('picture.jpg')",
   "id": "6954865180da2a4e",
   "outputs": [
    {
     "name": "stderr",
     "output_type": "stream",
     "text": [
      "INFO: Found 5 labels in picture.jpg.\n"
     ]
    },
    {
     "data": {
      "text/plain": [
       "{'Cow': {'name': 'Cow'}}"
      ]
     },
     "execution_count": 8,
     "metadata": {},
     "output_type": "execute_result"
    }
   ],
   "execution_count": 8
  }
 ],
 "metadata": {
  "kernelspec": {
   "display_name": "Python 3",
   "language": "python",
   "name": "python3"
  },
  "language_info": {
   "codemirror_mode": {
    "name": "ipython",
    "version": 2
   },
   "file_extension": ".py",
   "mimetype": "text/x-python",
   "name": "python",
   "nbconvert_exporter": "python",
   "pygments_lexer": "ipython2",
   "version": "2.7.6"
  }
 },
 "nbformat": 4,
 "nbformat_minor": 5
}
