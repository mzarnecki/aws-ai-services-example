{
 "cells": [
  {
   "metadata": {},
   "cell_type": "markdown",
   "source": "# Recognize images with AWS Rekognition",
   "id": "ec204cea16cd4ebe"
  },
  {
   "metadata": {
    "ExecuteTime": {
     "end_time": "2025-04-01T14:46:51.211404Z",
     "start_time": "2025-04-01T14:46:49.468562Z"
    }
   },
   "cell_type": "code",
   "source": "! pip install boto3",
   "id": "6e74f8400c23819c",
   "outputs": [
    {
     "name": "stdout",
     "output_type": "stream",
     "text": [
      "Requirement already satisfied: boto3 in /home/michal/anaconda3/lib/python3.12/site-packages (1.37.24)\r\n",
      "Requirement already satisfied: botocore<1.38.0,>=1.37.24 in /home/michal/anaconda3/lib/python3.12/site-packages (from boto3) (1.37.24)\r\n",
      "Requirement already satisfied: jmespath<2.0.0,>=0.7.1 in /home/michal/anaconda3/lib/python3.12/site-packages (from boto3) (1.0.1)\r\n",
      "Requirement already satisfied: s3transfer<0.12.0,>=0.11.0 in /home/michal/anaconda3/lib/python3.12/site-packages (from boto3) (0.11.4)\r\n",
      "Requirement already satisfied: python-dateutil<3.0.0,>=2.1 in /home/michal/anaconda3/lib/python3.12/site-packages (from botocore<1.38.0,>=1.37.24->boto3) (2.9.0.post0)\r\n",
      "Requirement already satisfied: urllib3!=2.2.0,<3,>=1.25.4 in /home/michal/anaconda3/lib/python3.12/site-packages (from botocore<1.38.0,>=1.37.24->boto3) (2.2.3)\r\n",
      "Requirement already satisfied: six>=1.5 in /home/michal/anaconda3/lib/python3.12/site-packages (from python-dateutil<3.0.0,>=2.1->botocore<1.38.0,>=1.37.24->boto3) (1.16.0)\r\n"
     ]
    }
   ],
   "execution_count": 16
  },
  {
   "metadata": {
    "ExecuteTime": {
     "end_time": "2025-04-01T14:46:51.224951Z",
     "start_time": "2025-04-01T14:46:51.221166Z"
    }
   },
   "cell_type": "code",
   "source": [
    "import os\n",
    "import logging\n",
    "import boto3\n",
    "from dotenv import load_dotenv, find_dotenv\n",
    "\n",
    "logger = logging.getLogger(__name__)\n",
    "\n",
    "load_dotenv(find_dotenv())\n",
    "aws_access_key_id = os.environ.get(\"aws_access_key_id\")\n",
    "aws_secret_access_key = os.environ.get(\"aws_secret_access_key\")"
   ],
   "id": "3ace840a3960af1c",
   "outputs": [],
   "execution_count": 17
  },
  {
   "cell_type": "code",
   "id": "initial_id",
   "metadata": {
    "collapsed": true,
    "ExecuteTime": {
     "end_time": "2025-04-01T14:46:51.277382Z",
     "start_time": "2025-04-01T14:46:51.271842Z"
    }
   },
   "source": [
    "from lib.rekognition import RekognitionImage\n",
    "\n",
    "def recognize_img(path: str, labelsNum=5):\n",
    "    logging.basicConfig(level=logging.INFO, format='%(levelname)s: %(message)s')\n",
    "    rekognition_client = boto3.client(\n",
    "        'rekognition',\n",
    "        aws_access_key_id=aws_access_key_id,\n",
    "        aws_secret_access_key=aws_secret_access_key,\n",
    "        region_name=\"eu-central-1\"\n",
    "    )\n",
    "    img = RekognitionImage.from_file(path, rekognition_client)\n",
    "    labels = img.detect_labels(labelsNum)\n",
    "    labelsDict = {}\n",
    "    for label in labels:\n",
    "        if label.instances:\n",
    "            labelsDict[label.name] = label.to_dict()\n",
    "    return labelsDict"
   ],
   "outputs": [],
   "execution_count": 18
  },
  {
   "metadata": {
    "ExecuteTime": {
     "end_time": "2025-04-01T14:46:51.891398Z",
     "start_time": "2025-04-01T14:46:51.323240Z"
    }
   },
   "cell_type": "code",
   "source": "recognize_img('img/picture.jpg')",
   "id": "6954865180da2a4e",
   "outputs": [
    {
     "name": "stderr",
     "output_type": "stream",
     "text": [
      "INFO: Found 5 labels in img/picture.jpg.\n"
     ]
    },
    {
     "data": {
      "text/plain": [
       "{'Cow': {'name': 'Cow'}}"
      ]
     },
     "execution_count": 19,
     "metadata": {},
     "output_type": "execute_result"
    }
   ],
   "execution_count": 19
  }
 ],
 "metadata": {
  "kernelspec": {
   "display_name": "Python 3",
   "language": "python",
   "name": "python3"
  },
  "language_info": {
   "codemirror_mode": {
    "name": "ipython",
    "version": 2
   },
   "file_extension": ".py",
   "mimetype": "text/x-python",
   "name": "python",
   "nbconvert_exporter": "python",
   "pygments_lexer": "ipython2",
   "version": "2.7.6"
  }
 },
 "nbformat": 4,
 "nbformat_minor": 5
}
