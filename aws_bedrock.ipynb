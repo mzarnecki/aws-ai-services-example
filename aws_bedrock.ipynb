{
 "cells": [
  {
   "metadata": {},
   "cell_type": "markdown",
   "source": "# AWS BEDROCK API EXAMPLE",
   "id": "9564b2bd12225f62"
  },
  {
   "cell_type": "code",
   "id": "initial_id",
   "metadata": {
    "collapsed": true,
    "ExecuteTime": {
     "end_time": "2025-03-22T06:53:21.991067Z",
     "start_time": "2025-03-22T06:53:21.986293Z"
    }
   },
   "source": [
    "import boto3\n",
    "from botocore.exceptions import ClientError\n",
    "import os\n",
    "import json\n",
    "import logging\n",
    "from bedrock import BedrockWrapper\n",
    "from dotenv import load_dotenv, find_dotenv\n",
    "\n",
    "logger = logging.getLogger(__name__)\n",
    "\n",
    "load_dotenv(find_dotenv())\n",
    "aws_access_key_id = os.environ.get(\"aws_access_key_id\")\n",
    "aws_secret_access_key = os.environ.get(\"aws_secret_access_key\")"
   ],
   "outputs": [],
   "execution_count": 5
  },
  {
   "metadata": {},
   "cell_type": "markdown",
   "source": "### Generative AI with large language models available on AWS",
   "id": "43c33b3883537bc4"
  },
  {
   "metadata": {
    "ExecuteTime": {
     "end_time": "2025-03-22T06:53:24.800495Z",
     "start_time": "2025-03-22T06:53:23.941146Z"
    }
   },
   "cell_type": "code",
   "source": [
    "def generate():\n",
    "    boto3_bedrock = boto3.client(\n",
    "        'bedrock-runtime',\n",
    "        aws_access_key_id=aws_access_key_id,\n",
    "        aws_secret_access_key=aws_secret_access_key,\n",
    "        region_name=\"eu-central-1\")\n",
    "\n",
    "    # create the prompt\n",
    "    prompt_data = \"Human:2+2=? Assistant:\"\n",
    "\n",
    "    body = json.dumps({\"prompt\": prompt_data, \"max_tokens_to_sample\": 300})\n",
    "\n",
    "    modelId = 'anthropic.claude-instant-v1'\n",
    "    contentType = 'application/json'\n",
    "\n",
    "    response = boto3_bedrock.invoke_model(body=body, modelId=modelId, contentType=contentType)\n",
    "    response_body = json.loads(response.get('body').read())\n",
    "\n",
    "    print(response_body['completion'])\n",
    "\n",
    "generate()"
   ],
   "id": "78e861db4d080f81",
   "outputs": [
    {
     "ename": "AccessDeniedException",
     "evalue": "An error occurred (AccessDeniedException) when calling the InvokeModel operation: User: arn:aws:iam::695938443023:user/Administrator is not authorized to perform: bedrock:InvokeModel on resource: arn:aws:bedrock:eu-central-1::foundation-model/anthropic.claude-instant-v1 with an explicit deny in an identity-based policy",
     "output_type": "error",
     "traceback": [
      "\u001B[0;31m---------------------------------------------------------------------------\u001B[0m",
      "\u001B[0;31mAccessDeniedException\u001B[0m                     Traceback (most recent call last)",
      "Cell \u001B[0;32mIn[6], line 21\u001B[0m\n\u001B[1;32m     17\u001B[0m     response_body \u001B[38;5;241m=\u001B[39m json\u001B[38;5;241m.\u001B[39mloads(response\u001B[38;5;241m.\u001B[39mget(\u001B[38;5;124m'\u001B[39m\u001B[38;5;124mbody\u001B[39m\u001B[38;5;124m'\u001B[39m)\u001B[38;5;241m.\u001B[39mread())\n\u001B[1;32m     19\u001B[0m     \u001B[38;5;28mprint\u001B[39m(response_body[\u001B[38;5;124m'\u001B[39m\u001B[38;5;124mcompletion\u001B[39m\u001B[38;5;124m'\u001B[39m])\n\u001B[0;32m---> 21\u001B[0m generate()\n",
      "Cell \u001B[0;32mIn[6], line 16\u001B[0m, in \u001B[0;36mgenerate\u001B[0;34m()\u001B[0m\n\u001B[1;32m     13\u001B[0m modelId \u001B[38;5;241m=\u001B[39m \u001B[38;5;124m'\u001B[39m\u001B[38;5;124manthropic.claude-instant-v1\u001B[39m\u001B[38;5;124m'\u001B[39m\n\u001B[1;32m     14\u001B[0m contentType \u001B[38;5;241m=\u001B[39m \u001B[38;5;124m'\u001B[39m\u001B[38;5;124mapplication/json\u001B[39m\u001B[38;5;124m'\u001B[39m\n\u001B[0;32m---> 16\u001B[0m response \u001B[38;5;241m=\u001B[39m boto3_bedrock\u001B[38;5;241m.\u001B[39minvoke_model(body\u001B[38;5;241m=\u001B[39mbody, modelId\u001B[38;5;241m=\u001B[39mmodelId, contentType\u001B[38;5;241m=\u001B[39mcontentType)\n\u001B[1;32m     17\u001B[0m response_body \u001B[38;5;241m=\u001B[39m json\u001B[38;5;241m.\u001B[39mloads(response\u001B[38;5;241m.\u001B[39mget(\u001B[38;5;124m'\u001B[39m\u001B[38;5;124mbody\u001B[39m\u001B[38;5;124m'\u001B[39m)\u001B[38;5;241m.\u001B[39mread())\n\u001B[1;32m     19\u001B[0m \u001B[38;5;28mprint\u001B[39m(response_body[\u001B[38;5;124m'\u001B[39m\u001B[38;5;124mcompletion\u001B[39m\u001B[38;5;124m'\u001B[39m])\n",
      "File \u001B[0;32m~/anaconda3/lib/python3.12/site-packages/botocore/client.py:569\u001B[0m, in \u001B[0;36mClientCreator._create_api_method.<locals>._api_call\u001B[0;34m(self, *args, **kwargs)\u001B[0m\n\u001B[1;32m    565\u001B[0m     \u001B[38;5;28;01mraise\u001B[39;00m \u001B[38;5;167;01mTypeError\u001B[39;00m(\n\u001B[1;32m    566\u001B[0m         \u001B[38;5;124mf\u001B[39m\u001B[38;5;124m\"\u001B[39m\u001B[38;5;132;01m{\u001B[39;00mpy_operation_name\u001B[38;5;132;01m}\u001B[39;00m\u001B[38;5;124m() only accepts keyword arguments.\u001B[39m\u001B[38;5;124m\"\u001B[39m\n\u001B[1;32m    567\u001B[0m     )\n\u001B[1;32m    568\u001B[0m \u001B[38;5;66;03m# The \"self\" in this scope is referring to the BaseClient.\u001B[39;00m\n\u001B[0;32m--> 569\u001B[0m \u001B[38;5;28;01mreturn\u001B[39;00m \u001B[38;5;28mself\u001B[39m\u001B[38;5;241m.\u001B[39m_make_api_call(operation_name, kwargs)\n",
      "File \u001B[0;32m~/anaconda3/lib/python3.12/site-packages/botocore/client.py:1023\u001B[0m, in \u001B[0;36mBaseClient._make_api_call\u001B[0;34m(self, operation_name, api_params)\u001B[0m\n\u001B[1;32m   1019\u001B[0m     error_code \u001B[38;5;241m=\u001B[39m error_info\u001B[38;5;241m.\u001B[39mget(\u001B[38;5;124m\"\u001B[39m\u001B[38;5;124mQueryErrorCode\u001B[39m\u001B[38;5;124m\"\u001B[39m) \u001B[38;5;129;01mor\u001B[39;00m error_info\u001B[38;5;241m.\u001B[39mget(\n\u001B[1;32m   1020\u001B[0m         \u001B[38;5;124m\"\u001B[39m\u001B[38;5;124mCode\u001B[39m\u001B[38;5;124m\"\u001B[39m\n\u001B[1;32m   1021\u001B[0m     )\n\u001B[1;32m   1022\u001B[0m     error_class \u001B[38;5;241m=\u001B[39m \u001B[38;5;28mself\u001B[39m\u001B[38;5;241m.\u001B[39mexceptions\u001B[38;5;241m.\u001B[39mfrom_code(error_code)\n\u001B[0;32m-> 1023\u001B[0m     \u001B[38;5;28;01mraise\u001B[39;00m error_class(parsed_response, operation_name)\n\u001B[1;32m   1024\u001B[0m \u001B[38;5;28;01melse\u001B[39;00m:\n\u001B[1;32m   1025\u001B[0m     \u001B[38;5;28;01mreturn\u001B[39;00m parsed_response\n",
      "\u001B[0;31mAccessDeniedException\u001B[0m: An error occurred (AccessDeniedException) when calling the InvokeModel operation: User: arn:aws:iam::695938443023:user/Administrator is not authorized to perform: bedrock:InvokeModel on resource: arn:aws:bedrock:eu-central-1::foundation-model/anthropic.claude-instant-v1 with an explicit deny in an identity-based policy"
     ]
    }
   ],
   "execution_count": 6
  },
  {
   "metadata": {},
   "cell_type": "markdown",
   "source": "### Get model details via API",
   "id": "ce22b9ebf52bd30d"
  },
  {
   "metadata": {
    "ExecuteTime": {
     "end_time": "2025-03-22T06:40:31.455667Z",
     "start_time": "2025-03-22T06:40:31.450241Z"
    }
   },
   "cell_type": "code",
   "source": [
    "def usage_demo():\n",
    "    \"\"\"\n",
    "    Shows how to list the available foundation models.\n",
    "    This demonstration gets the list of available foundation models and\n",
    "    prints their respective summaries.\n",
    "    \"\"\"\n",
    "    logging.basicConfig(level=logging.INFO)\n",
    "    print(\"-\" * 88)\n",
    "    print(\"Welcome to the Amazon Bedrock demo.\")\n",
    "    print(\"-\" * 88)\n",
    "\n",
    "    bedrock_client = boto3.client(\n",
    "        service_name=\"bedrock\",\n",
    "        aws_access_key_id=aws_access_key_id,\n",
    "        aws_secret_access_key=aws_secret_access_key,\n",
    "        region_name=\"eu-central-1\"\n",
    "    )\n",
    "\n",
    "    wrapper = BedrockWrapper(bedrock_client)\n",
    "\n",
    "    print(\"Listing the available foundation models.\")\n",
    "\n",
    "    try:\n",
    "        for model in wrapper.list_foundation_models():\n",
    "            print_model_details(model)\n",
    "    except ClientError:\n",
    "        logger.exception(\"Couldn't list foundation models.\")\n",
    "        raise\n",
    "\n",
    "    print(\"Getting the details of an individual foundation model.\")\n",
    "\n",
    "    model_id = \"amazon.titan-embed-text-v1\"\n",
    "\n",
    "    try:\n",
    "        print_model_details(wrapper.get_foundation_model(model_id))\n",
    "    except ClientError:\n",
    "        logger.exception(f\"Couldn't get foundation model {model_id}.\")\n",
    "        raise\n",
    "\n",
    "\n",
    "def print_model_details(model):\n",
    "    print(\"\\n\" + \"=\" * 42)\n",
    "    print(f' Model: {model[\"modelId\"]}')\n",
    "    print(\"-\" * 42)\n",
    "    print(f' Name: {model[\"modelName\"]}')\n",
    "    print(f' Provider: {model[\"providerName\"]}')\n",
    "    print(f' Model ARN: {model[\"modelArn\"]}')\n",
    "    print(f' Lifecycle status: {model[\"modelLifecycle\"][\"status\"]}')\n",
    "    print(f' Input modalities: {model[\"inputModalities\"]}')\n",
    "    print(f' Output modalities: {model[\"outputModalities\"]}')\n",
    "    print(f' Supported customizations: {model[\"customizationsSupported\"]}')\n",
    "    print(f' Supported inference types: {model[\"inferenceTypesSupported\"]}')\n",
    "    if \"responseStreamingSupported\" in model:\n",
    "        print(f' Response streaming supported: {model[\"responseStreamingSupported\"]}')\n",
    "\n",
    "    print(\"=\" * 42)\n",
    "\n",
    "usage_demo()"
   ],
   "id": "83fff4f1e26f8f0b",
   "outputs": [],
   "execution_count": 3
  }
 ],
 "metadata": {
  "kernelspec": {
   "display_name": "Python 3",
   "language": "python",
   "name": "python3"
  },
  "language_info": {
   "codemirror_mode": {
    "name": "ipython",
    "version": 2
   },
   "file_extension": ".py",
   "mimetype": "text/x-python",
   "name": "python",
   "nbconvert_exporter": "python",
   "pygments_lexer": "ipython2",
   "version": "2.7.6"
  }
 },
 "nbformat": 4,
 "nbformat_minor": 5
}
