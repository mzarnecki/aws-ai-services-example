{
 "cells": [
  {
   "metadata": {},
   "cell_type": "markdown",
   "source": "# Analyze satellite image",
   "id": "bd585277890c7fb0"
  },
  {
   "cell_type": "code",
   "id": "initial_id",
   "metadata": {
    "collapsed": true,
    "ExecuteTime": {
     "end_time": "2025-04-01T14:45:21.299013Z",
     "start_time": "2025-04-01T14:45:12.020155Z"
    }
   },
   "source": [
    "from lib.lib_aws_boto_rekognition_bedrock import generate_multimodal, recognize_img\n",
    "\n",
    "result_llm = generate_multimodal(image_path='img/satellite.png', prompt=\"count cars on the image. Return only number without any additional text.\")\n",
    "\n",
    "result_rekognition = recognize_img('img/satellite.png', 20)\n",
    "\n",
    "print(result_llm, result_rekognition)"
   ],
   "outputs": [
    {
     "ename": "ThrottlingException",
     "evalue": "An error occurred (ThrottlingException) when calling the InvokeModel operation (reached max retries: 4): Too many requests, please wait before trying again.",
     "output_type": "error",
     "traceback": [
      "\u001B[0;31m---------------------------------------------------------------------------\u001B[0m",
      "\u001B[0;31mThrottlingException\u001B[0m                       Traceback (most recent call last)",
      "Cell \u001B[0;32mIn[13], line 3\u001B[0m\n\u001B[1;32m      1\u001B[0m \u001B[38;5;28;01mfrom\u001B[39;00m \u001B[38;5;21;01mlib\u001B[39;00m\u001B[38;5;21;01m.\u001B[39;00m\u001B[38;5;21;01mlib_aws_boto_rekognition_bedrock\u001B[39;00m \u001B[38;5;28;01mimport\u001B[39;00m generate_multimodal, recognize_img\n\u001B[0;32m----> 3\u001B[0m result_llm \u001B[38;5;241m=\u001B[39m generate_multimodal(image_path\u001B[38;5;241m=\u001B[39m\u001B[38;5;124m'\u001B[39m\u001B[38;5;124mimg/satellite.png\u001B[39m\u001B[38;5;124m'\u001B[39m, prompt\u001B[38;5;241m=\u001B[39m\u001B[38;5;124m\"\u001B[39m\u001B[38;5;124mcount cars on the image. Return only number without any additional text.\u001B[39m\u001B[38;5;124m\"\u001B[39m)\n\u001B[1;32m      5\u001B[0m result_rekognition \u001B[38;5;241m=\u001B[39m recognize_img(\u001B[38;5;124m'\u001B[39m\u001B[38;5;124mimg/satellite.png\u001B[39m\u001B[38;5;124m'\u001B[39m, \u001B[38;5;241m20\u001B[39m)\n\u001B[1;32m      7\u001B[0m \u001B[38;5;28mprint\u001B[39m(result_llm, result_rekognition)\n",
      "File \u001B[0;32m~/aws-ai-services-example/lib/lib_aws_boto_rekognition_bedrock.py:67\u001B[0m, in \u001B[0;36mgenerate_multimodal\u001B[0;34m(image_path, prompt)\u001B[0m\n\u001B[1;32m     64\u001B[0m modelId \u001B[38;5;241m=\u001B[39m \u001B[38;5;124m'\u001B[39m\u001B[38;5;124manthropic.claude-3-5-sonnet-20240620-v1:0\u001B[39m\u001B[38;5;124m'\u001B[39m\n\u001B[1;32m     65\u001B[0m contentType \u001B[38;5;241m=\u001B[39m \u001B[38;5;124m'\u001B[39m\u001B[38;5;124mapplication/json\u001B[39m\u001B[38;5;124m'\u001B[39m\n\u001B[0;32m---> 67\u001B[0m response \u001B[38;5;241m=\u001B[39m boto3_bedrock\u001B[38;5;241m.\u001B[39minvoke_model(body\u001B[38;5;241m=\u001B[39mbody, modelId\u001B[38;5;241m=\u001B[39mmodelId, contentType\u001B[38;5;241m=\u001B[39mcontentType)\n\u001B[1;32m     68\u001B[0m response_body \u001B[38;5;241m=\u001B[39m json\u001B[38;5;241m.\u001B[39mloads(response\u001B[38;5;241m.\u001B[39mget(\u001B[38;5;124m'\u001B[39m\u001B[38;5;124mbody\u001B[39m\u001B[38;5;124m'\u001B[39m)\u001B[38;5;241m.\u001B[39mread())\n\u001B[1;32m     70\u001B[0m \u001B[38;5;28;01mreturn\u001B[39;00m response_body\n",
      "File \u001B[0;32m~/anaconda3/lib/python3.12/site-packages/botocore/client.py:569\u001B[0m, in \u001B[0;36m_api_call\u001B[0;34m(self, *args, **kwargs)\u001B[0m\n\u001B[1;32m    565\u001B[0m     if args:\n\u001B[1;32m    566\u001B[0m         raise TypeError(\n\u001B[1;32m    567\u001B[0m             f\"{py_operation_name}() only accepts keyword arguments.\"\n\u001B[1;32m    568\u001B[0m         )\n\u001B[0;32m--> 569\u001B[0m     # The \"self\" in this scope is referring to the BaseClient.\n\u001B[1;32m    570\u001B[0m     return self._make_api_call(operation_name, kwargs)\n\u001B[1;32m    572\u001B[0m _api_call.__name__ = str(py_operation_name)\n",
      "File \u001B[0;32m~/anaconda3/lib/python3.12/site-packages/botocore/client.py:1023\u001B[0m, in \u001B[0;36m_make_api_call\u001B[0;34m(self, operation_name, api_params)\u001B[0m\n\u001B[1;32m   1012\u001B[0m     apply_request_checksum(request_dict)\n\u001B[1;32m   1013\u001B[0m     http, parsed_response \u001B[38;5;241m=\u001B[39m \u001B[38;5;28mself\u001B[39m\u001B[38;5;241m.\u001B[39m_make_request(\n\u001B[1;32m   1014\u001B[0m         operation_model, request_dict, request_context\n\u001B[1;32m   1015\u001B[0m     )\n\u001B[1;32m   1017\u001B[0m \u001B[38;5;28mself\u001B[39m\u001B[38;5;241m.\u001B[39mmeta\u001B[38;5;241m.\u001B[39mevents\u001B[38;5;241m.\u001B[39memit(\n\u001B[1;32m   1018\u001B[0m     \u001B[38;5;124mf\u001B[39m\u001B[38;5;124m'\u001B[39m\u001B[38;5;124mafter-call.\u001B[39m\u001B[38;5;132;01m{\u001B[39;00mservice_id\u001B[38;5;132;01m}\u001B[39;00m\u001B[38;5;124m.\u001B[39m\u001B[38;5;132;01m{\u001B[39;00moperation_name\u001B[38;5;132;01m}\u001B[39;00m\u001B[38;5;124m'\u001B[39m,\n\u001B[1;32m   1019\u001B[0m     http_response\u001B[38;5;241m=\u001B[39mhttp,\n\u001B[1;32m   1020\u001B[0m     parsed\u001B[38;5;241m=\u001B[39mparsed_response,\n\u001B[1;32m   1021\u001B[0m     model\u001B[38;5;241m=\u001B[39moperation_model,\n\u001B[1;32m   1022\u001B[0m     context\u001B[38;5;241m=\u001B[39mrequest_context,\n\u001B[0;32m-> 1023\u001B[0m )\n\u001B[1;32m   1025\u001B[0m \u001B[38;5;28;01mif\u001B[39;00m http\u001B[38;5;241m.\u001B[39mstatus_code \u001B[38;5;241m>\u001B[39m\u001B[38;5;241m=\u001B[39m \u001B[38;5;241m300\u001B[39m:\n\u001B[1;32m   1026\u001B[0m     error_info \u001B[38;5;241m=\u001B[39m parsed_response\u001B[38;5;241m.\u001B[39mget(\u001B[38;5;124m\"\u001B[39m\u001B[38;5;124mError\u001B[39m\u001B[38;5;124m\"\u001B[39m, {})\n",
      "\u001B[0;31mThrottlingException\u001B[0m: An error occurred (ThrottlingException) when calling the InvokeModel operation (reached max retries: 4): Too many requests, please wait before trying again."
     ]
    }
   ],
   "execution_count": 13
  },
  {
   "metadata": {
    "ExecuteTime": {
     "end_time": "2025-04-01T14:45:21.351332198Z",
     "start_time": "2025-04-01T14:42:39.941429Z"
    }
   },
   "cell_type": "code",
   "source": "result_llm['content'][0]['text']",
   "id": "b32b7d816c3307ae",
   "outputs": [
    {
     "data": {
      "text/plain": [
       "'33'"
      ]
     },
     "execution_count": 9,
     "metadata": {},
     "output_type": "execute_result"
    }
   ],
   "execution_count": 9
  },
  {
   "metadata": {
    "ExecuteTime": {
     "end_time": "2025-04-01T14:45:21.352373739Z",
     "start_time": "2025-04-01T14:42:40.000443Z"
    }
   },
   "cell_type": "code",
   "source": "result_rekognition",
   "id": "f649948f8cfa2d1a",
   "outputs": [
    {
     "data": {
      "text/plain": [
       "{'Building': {'name': 'Building'},\n",
       " 'Wheel': {'name': 'Wheel'},\n",
       " 'Motorcycle': {'name': 'Motorcycle'},\n",
       " 'Person': {'name': 'Person'}}"
      ]
     },
     "execution_count": 10,
     "metadata": {},
     "output_type": "execute_result"
    }
   ],
   "execution_count": 10
  }
 ],
 "metadata": {
  "kernelspec": {
   "display_name": "Python 3",
   "language": "python",
   "name": "python3"
  },
  "language_info": {
   "codemirror_mode": {
    "name": "ipython",
    "version": 2
   },
   "file_extension": ".py",
   "mimetype": "text/x-python",
   "name": "python",
   "nbconvert_exporter": "python",
   "pygments_lexer": "ipython2",
   "version": "2.7.6"
  }
 },
 "nbformat": 4,
 "nbformat_minor": 5
}
